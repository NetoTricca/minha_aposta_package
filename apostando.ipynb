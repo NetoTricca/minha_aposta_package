{
 "cells": [
  {
   "cell_type": "code",
   "execution_count": 21,
   "id": "babe1208",
   "metadata": {},
   "outputs": [],
   "source": [
    "\n",
    "from minha_aposta import quina\n",
    "from minha_aposta import megasena\n",
    "from minha_aposta import duplasena\n",
    "from minha_aposta import lotofacil\n"
   ]
  },
  {
   "cell_type": "code",
   "execution_count": 23,
   "id": "664fa9ce",
   "metadata": {},
   "outputs": [
    {
     "name": "stdout",
     "output_type": "stream",
     "text": [
      "75\n",
      "41\n",
      "10\n",
      "35\n",
      "47\n"
     ]
    }
   ],
   "source": [
    "jogo = minha_aposta.quina.aposta()"
   ]
  },
  {
   "cell_type": "code",
   "execution_count": null,
   "id": "c004aeca",
   "metadata": {},
   "outputs": [],
   "source": [
    "jogo = minha_aposta.megasena.aposta()"
   ]
  },
  {
   "cell_type": "code",
   "execution_count": null,
   "id": "94bb8b04",
   "metadata": {},
   "outputs": [],
   "source": [
    "jogo = minha_aposta.duplasena.aposta()"
   ]
  },
  {
   "cell_type": "code",
   "execution_count": null,
   "id": "0ec58ddf",
   "metadata": {},
   "outputs": [],
   "source": [
    "jogo = minha_aposta.lotofacil.aposta()"
   ]
  }
 ],
 "metadata": {
  "kernelspec": {
   "display_name": "Python 3 (ipykernel)",
   "language": "python",
   "name": "python3"
  },
  "language_info": {
   "codemirror_mode": {
    "name": "ipython",
    "version": 3
   },
   "file_extension": ".py",
   "mimetype": "text/x-python",
   "name": "python",
   "nbconvert_exporter": "python",
   "pygments_lexer": "ipython3",
   "version": "3.8.10"
  }
 },
 "nbformat": 4,
 "nbformat_minor": 5
}
